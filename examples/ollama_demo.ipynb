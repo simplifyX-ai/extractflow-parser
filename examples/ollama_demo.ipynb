{
 "cells": [
  {
   "cell_type": "markdown",
   "metadata": {},
   "source": [
    "# Using Extractflow Parse with Ollama"
   ]
  },
  {
   "cell_type": "markdown",
   "metadata": {},
   "source": [
    "This notebook demonstrates how to use Extractflow Parse with Ollama."
   ]
  },
  {
   "cell_type": "code",
   "execution_count": 1,
   "metadata": {},
   "outputs": [],
   "source": [
    "!pip install extractflow_parser -Uqq # install the extractflow_parser package with ollama"
   ]
  },
  {
   "cell_type": "code",
   "execution_count": 4,
   "metadata": {},
   "outputs": [
    {
     "name": "stderr",
     "output_type": "stream",
     "text": [
      "Converting pages in PDF file into markdown format: 100%|██████████| 1/1 [00:48<00:00, 48.24s/it]"
     ]
    },
    {
     "name": "stdout",
     "output_type": "stream",
     "text": [
      "\n",
      "--- Page 1 ---\n",
      "**Extracted Text**\n",
      "\n",
      "*   **TO:** JR Sprague, TCAAA D1 Chairman\n",
      "    *   FROM: Andy Holloway, CEA ANR Hemphill County\n",
      "    *   Regarding the three chairmanships appointed to me none have any action needed at this time except for the rules to be submitted to be posted on the TCAAA website for the Texas Holdem Tournament. Please note the following:\n",
      "*   **Texas Hold'em Basic Poker Rules**\n",
      "    *   Straight Flush: Any five cards of the same suit and consecutive rank; the best of these hands, AKQJT of a single suit, is known as a Royal Flush. For these and regular straights, Aces may be played as high or low cards.\n",
      "    *   Four of a Kind: Any four cards of the same rank.\n",
      "    *   Full House: Any three cards from a single rank combined with a pair from a different rank (i.e., TTT55).\n",
      "    *   Flush: Any five cards of the same suit.\n",
      "    *   Straight: Any five cards of consecutive ranks (i.e., 34567).\n",
      "    *   Three of a Kind: Any three cards of the same rank.\n",
      "    *   Two Pair: Any two pairs of cards from the same ranks (i.e., 5599A).\n",
      "    *   One Pair: Any two cards of the same rank.\n",
      "    *   High Card: Hands that do not fit any of the above categories are ranked based on the highest card in their hand (aces are high), then by the second highest card, and so on.\n"
     ]
    },
    {
     "name": "stderr",
     "output_type": "stream",
     "text": [
      "\n"
     ]
    }
   ],
   "source": [
    "from extractflow_parse import ExtractFlowParser\n",
    "\n",
    "parser = ExtractFlowParser(\n",
    "    model_name=\"llama3.2-vision:11b\",\n",
    "    temperature=0.7,\n",
    "    top_p=0.4,\n",
    "    num_ctx=4096,\n",
    "    num_predict=4096,\n",
    "    extraction_complexity=True\n",
    ")\n",
    "\n",
    "pdf_path = \"../tests/Texas-Holdem-Rules.pdf\"\n",
    "markdown_pages = parser.convert_pdf(pdf_path)\n",
    "\n",
    "for i, page_content in enumerate(markdown_pages):\n",
    "    print(f\"\\n--- Page {i+1} ---\\n{page_content}\")"
   ]
  }
 ],
 "metadata": {
  "kernelspec": {
   "display_name": "mp",
   "language": "python",
   "name": "python3"
  },
  "language_info": {
   "codemirror_mode": {
    "name": "ipython",
    "version": 3
   },
   "file_extension": ".py",
   "mimetype": "text/x-python",
   "name": "python",
   "nbconvert_exporter": "python",
   "pygments_lexer": "ipython3",
   "version": "3.13.1"
  }
 },
 "nbformat": 4,
 "nbformat_minor": 2
}
