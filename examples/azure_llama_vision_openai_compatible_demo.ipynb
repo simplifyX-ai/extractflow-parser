{
 "cells": [
  {
   "cell_type": "markdown",
   "metadata": {},
   "source": [
    "# Using Extractflow Parser with OpenAI Compatible API "
   ]
  },
  {
   "cell_type": "markdown",
   "metadata": {},
   "source": [
    "This notebook demonstrates how to use Extractflow Parser with Azure LLama Vision"
   ]
  },
  {
   "cell_type": "code",
   "execution_count": 2,
   "metadata": {},
   "outputs": [
    {
     "name": "stdout",
     "output_type": "stream",
     "text": [
      "Requirement already satisfied: extractflow_parser in /opt/miniconda3/envs/task/lib/python3.12/site-packages (0.1.1)\n",
      "Requirement already satisfied: instructor>=1.7.2 in /opt/miniconda3/envs/task/lib/python3.12/site-packages (from extractflow_parser) (1.7.2)\n",
      "Requirement already satisfied: jinja2>=3.0.0 in /opt/miniconda3/envs/task/lib/python3.12/site-packages (from extractflow_parser) (3.1.4)\n",
      "Requirement already satisfied: ollama>=0.4.4 in /opt/miniconda3/envs/task/lib/python3.12/site-packages (from extractflow_parser) (0.4.5)\n",
      "Requirement already satisfied: pydantic>=2.0.0 in /opt/miniconda3/envs/task/lib/python3.12/site-packages (from extractflow_parser) (2.10.3)\n",
      "Requirement already satisfied: pymupdf>=1.22.0 in /opt/miniconda3/envs/task/lib/python3.12/site-packages (from extractflow_parser) (1.24.13)\n",
      "Requirement already satisfied: tenacity>=9.0.0 in /opt/miniconda3/envs/task/lib/python3.12/site-packages (from extractflow_parser) (9.0.0)\n",
      "Requirement already satisfied: tqdm>=4.65.0 in /opt/miniconda3/envs/task/lib/python3.12/site-packages (from extractflow_parser) (4.67.0)\n",
      "Requirement already satisfied: aiohttp<4.0.0,>=3.9.1 in /opt/miniconda3/envs/task/lib/python3.12/site-packages (from instructor>=1.7.2->extractflow_parser) (3.11.4)\n",
      "Requirement already satisfied: docstring-parser<1.0,>=0.16 in /opt/miniconda3/envs/task/lib/python3.12/site-packages (from instructor>=1.7.2->extractflow_parser) (0.16)\n",
      "Requirement already satisfied: jiter<0.9,>=0.6.1 in /opt/miniconda3/envs/task/lib/python3.12/site-packages (from instructor>=1.7.2->extractflow_parser) (0.6.1)\n",
      "Requirement already satisfied: openai<2.0.0,>=1.52.0 in /opt/miniconda3/envs/task/lib/python3.12/site-packages (from instructor>=1.7.2->extractflow_parser) (1.58.0)\n",
      "Requirement already satisfied: pydantic-core<3.0.0,>=2.18.0 in /opt/miniconda3/envs/task/lib/python3.12/site-packages (from instructor>=1.7.2->extractflow_parser) (2.27.1)\n",
      "Requirement already satisfied: requests<3.0.0,>=2.32.3 in /opt/miniconda3/envs/task/lib/python3.12/site-packages (from instructor>=1.7.2->extractflow_parser) (2.32.3)\n",
      "Requirement already satisfied: rich<14.0.0,>=13.7.0 in /opt/miniconda3/envs/task/lib/python3.12/site-packages (from instructor>=1.7.2->extractflow_parser) (13.9.4)\n",
      "Requirement already satisfied: typer<1.0.0,>=0.9.0 in /opt/miniconda3/envs/task/lib/python3.12/site-packages (from instructor>=1.7.2->extractflow_parser) (0.12.5)\n",
      "Requirement already satisfied: MarkupSafe>=2.0 in /opt/miniconda3/envs/task/lib/python3.12/site-packages (from jinja2>=3.0.0->extractflow_parser) (3.0.2)\n",
      "Requirement already satisfied: httpx<0.28.0,>=0.27.0 in /opt/miniconda3/envs/task/lib/python3.12/site-packages (from ollama>=0.4.4->extractflow_parser) (0.27.2)\n",
      "Requirement already satisfied: annotated-types>=0.6.0 in /opt/miniconda3/envs/task/lib/python3.12/site-packages (from pydantic>=2.0.0->extractflow_parser) (0.7.0)\n",
      "Requirement already satisfied: typing-extensions>=4.12.2 in /opt/miniconda3/envs/task/lib/python3.12/site-packages (from pydantic>=2.0.0->extractflow_parser) (4.12.2)\n",
      "Requirement already satisfied: aiohappyeyeballs>=2.3.0 in /opt/miniconda3/envs/task/lib/python3.12/site-packages (from aiohttp<4.0.0,>=3.9.1->instructor>=1.7.2->extractflow_parser) (2.4.3)\n",
      "Requirement already satisfied: aiosignal>=1.1.2 in /opt/miniconda3/envs/task/lib/python3.12/site-packages (from aiohttp<4.0.0,>=3.9.1->instructor>=1.7.2->extractflow_parser) (1.3.1)\n",
      "Requirement already satisfied: attrs>=17.3.0 in /opt/miniconda3/envs/task/lib/python3.12/site-packages (from aiohttp<4.0.0,>=3.9.1->instructor>=1.7.2->extractflow_parser) (24.2.0)\n",
      "Requirement already satisfied: frozenlist>=1.1.1 in /opt/miniconda3/envs/task/lib/python3.12/site-packages (from aiohttp<4.0.0,>=3.9.1->instructor>=1.7.2->extractflow_parser) (1.5.0)\n",
      "Requirement already satisfied: multidict<7.0,>=4.5 in /opt/miniconda3/envs/task/lib/python3.12/site-packages (from aiohttp<4.0.0,>=3.9.1->instructor>=1.7.2->extractflow_parser) (6.1.0)\n",
      "Requirement already satisfied: propcache>=0.2.0 in /opt/miniconda3/envs/task/lib/python3.12/site-packages (from aiohttp<4.0.0,>=3.9.1->instructor>=1.7.2->extractflow_parser) (0.2.0)\n",
      "Requirement already satisfied: yarl<2.0,>=1.17.0 in /opt/miniconda3/envs/task/lib/python3.12/site-packages (from aiohttp<4.0.0,>=3.9.1->instructor>=1.7.2->extractflow_parser) (1.17.1)\n",
      "Requirement already satisfied: anyio in /opt/miniconda3/envs/task/lib/python3.12/site-packages (from httpx<0.28.0,>=0.27.0->ollama>=0.4.4->extractflow_parser) (4.6.2.post1)\n",
      "Requirement already satisfied: certifi in /opt/miniconda3/envs/task/lib/python3.12/site-packages (from httpx<0.28.0,>=0.27.0->ollama>=0.4.4->extractflow_parser) (2024.8.30)\n",
      "Requirement already satisfied: httpcore==1.* in /opt/miniconda3/envs/task/lib/python3.12/site-packages (from httpx<0.28.0,>=0.27.0->ollama>=0.4.4->extractflow_parser) (1.0.6)\n",
      "Requirement already satisfied: idna in /opt/miniconda3/envs/task/lib/python3.12/site-packages (from httpx<0.28.0,>=0.27.0->ollama>=0.4.4->extractflow_parser) (3.10)\n",
      "Requirement already satisfied: sniffio in /opt/miniconda3/envs/task/lib/python3.12/site-packages (from httpx<0.28.0,>=0.27.0->ollama>=0.4.4->extractflow_parser) (1.3.1)\n",
      "Requirement already satisfied: h11<0.15,>=0.13 in /opt/miniconda3/envs/task/lib/python3.12/site-packages (from httpcore==1.*->httpx<0.28.0,>=0.27.0->ollama>=0.4.4->extractflow_parser) (0.14.0)\n",
      "Requirement already satisfied: distro<2,>=1.7.0 in /opt/miniconda3/envs/task/lib/python3.12/site-packages (from openai<2.0.0,>=1.52.0->instructor>=1.7.2->extractflow_parser) (1.9.0)\n",
      "Requirement already satisfied: charset-normalizer<4,>=2 in /opt/miniconda3/envs/task/lib/python3.12/site-packages (from requests<3.0.0,>=2.32.3->instructor>=1.7.2->extractflow_parser) (3.4.0)\n",
      "Requirement already satisfied: urllib3<3,>=1.21.1 in /opt/miniconda3/envs/task/lib/python3.12/site-packages (from requests<3.0.0,>=2.32.3->instructor>=1.7.2->extractflow_parser) (2.2.3)\n",
      "Requirement already satisfied: markdown-it-py>=2.2.0 in /opt/miniconda3/envs/task/lib/python3.12/site-packages (from rich<14.0.0,>=13.7.0->instructor>=1.7.2->extractflow_parser) (3.0.0)\n",
      "Requirement already satisfied: pygments<3.0.0,>=2.13.0 in /opt/miniconda3/envs/task/lib/python3.12/site-packages (from rich<14.0.0,>=13.7.0->instructor>=1.7.2->extractflow_parser) (2.18.0)\n",
      "Requirement already satisfied: click>=8.0.0 in /opt/miniconda3/envs/task/lib/python3.12/site-packages (from typer<1.0.0,>=0.9.0->instructor>=1.7.2->extractflow_parser) (8.1.7)\n",
      "Requirement already satisfied: shellingham>=1.3.0 in /opt/miniconda3/envs/task/lib/python3.12/site-packages (from typer<1.0.0,>=0.9.0->instructor>=1.7.2->extractflow_parser) (1.5.4)\n",
      "Requirement already satisfied: mdurl~=0.1 in /opt/miniconda3/envs/task/lib/python3.12/site-packages (from markdown-it-py>=2.2.0->rich<14.0.0,>=13.7.0->instructor>=1.7.2->extractflow_parser) (0.1.2)\n"
     ]
    }
   ],
   "source": [
    "!pip install extractflow_parser"
   ]
  },
  {
   "cell_type": "code",
   "execution_count": 1,
   "metadata": {},
   "outputs": [
    {
     "name": "stderr",
     "output_type": "stream",
     "text": [
      "Converting pages in PDF file into markdown format: 100%|██████████| 1/1 [00:35<00:00, 35.42s/it]"
     ]
    },
    {
     "name": "stdout",
     "output_type": "stream",
     "text": [
      "\n",
      "--- Page 1 ---\n",
      "**Texas A&M AgriLife Extension**\n",
      "\n",
      "**March 3, 2020**\n",
      "\n",
      "**TO:** JR Sprague, TCAAA D1 Chairman\n",
      "\n",
      "**FROM:** Andy Holloway, CEA ANR Hemphill County\n",
      "\n",
      "Regarding the three chairmanships appointed to me none have any action needed at this time except for the rules to be submitted to be posted on the TCAAA website for the Texas Holdem Tournament. Please note the following:\n",
      "\n",
      "**Texas Hold'em Basic Poker Rules**\n",
      "\n",
      "Texas Hold'em is played with a standard deck of 52 cards. The object of the game is to make the best possible five-card poker hand using any combination of the two card's in a player's hand (known as the \"hole cards\") and the five community cards that the dealer places in the middle of the table, which can be used by all players. The standard hand rankings are used, as follows (from best to worst):\n",
      "\n",
      "*   Straight Flush: Any five cards of the same suit and consecutive rank; the best of these hands, AKQJT of a single suit, is known as a Royal Flush. For these and regular straights, aces may be played as high or low cards.\n",
      "*   Four of a Kind: Any four cards of the same rank.\n",
      "*   Full House: Any three cards from a single rank combined with a pair from a different rank (i.e., TT55).\n",
      "*   Flush: Any five cards of the same suit.\n",
      "*   Straight: Any five cards of consecutive ranks (i.e., 34567).\n",
      "*   Three of a Kind: Any three cards of the same rank.\n",
      "*   Two Pair: Any two pairs of cards from the same ranks (ie, 5599A).\n",
      "*   One Pair: Any two cards of the same rank.\n",
      "*   High Card: Hands that do not fit any of the above categories are ranked based on the highest card in their hand (aces are high), then by the second highest card, and so on.\n"
     ]
    },
    {
     "name": "stderr",
     "output_type": "stream",
     "text": [
      "\n"
     ]
    }
   ],
   "source": [
    "from extractflow_parser import ExtractFlowParser\n",
    "import os\n",
    "from dotenv import load_dotenv\n",
    "\n",
    "load_dotenv()\n",
    "\n",
    "# Initialize parser\n",
    "parser = ExtractFlowParser(\n",
    "    base_url=os.getenv(\"AZURE_LLAMA_VISION_API_URL\"),\n",
    "    api_key=os.getenv(\"AZURE_LLAMA_VISION_API_KEY\"),\n",
    "    model_name=os.getenv(\"AZURE_LLAMA_MODEL_NAME\"),\n",
    "    openai_compatible=True,\n",
    "    temperature=0.2,\n",
    "    top_p=0.3,\n",
    "    extraction_complexity=True # Set to True for more detailed extraction\n",
    ")\n",
    "\n",
    "pdf_path = \"../tests/Texas-Holdem-Rules.pdf\"\n",
    "markdown_pages = parser.convert_pdf(pdf_path)\n",
    "\n",
    "for i, page_content in enumerate(markdown_pages):\n",
    "    print(f\"\\n--- Page {i+1} ---\\n{page_content}\")"
   ]
  }
 ],
 "metadata": {
  "kernelspec": {
   "display_name": "mp",
   "language": "python",
   "name": "python3"
  },
  "language_info": {
   "codemirror_mode": {
    "name": "ipython",
    "version": 3
   },
   "file_extension": ".py",
   "mimetype": "text/x-python",
   "name": "python",
   "nbconvert_exporter": "python",
   "pygments_lexer": "ipython3",
   "version": "3.12.7"
  }
 },
 "nbformat": 4,
 "nbformat_minor": 2
}
